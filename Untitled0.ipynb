{
 "cells": [
  {
   "cell_type": "code",
   "execution_count": 39,
   "metadata": {
    "id": "i_70ju7QLhv-"
   },
   "outputs": [],
   "source": [
    "import os\n",
    "import pandas as pd\n",
    "import numpy as np\n",
    "import seaborn as sns\n",
    "import matplotlib.pyplot as plt\n",
    "from matplotlib.image import imread\n",
    "# Technically not necessary in newest versions of jupyter\n",
    "%matplotlib inline\n"
   ]
  },
  {
   "cell_type": "code",
   "execution_count": null,
   "metadata": {
    "id": "344GF0NgcCcR"
   },
   "outputs": [],
   "source": []
  },
  {
   "cell_type": "code",
   "execution_count": 40,
   "metadata": {
    "id": "LGnd6Jh1Zy0z"
   },
   "outputs": [],
   "source": [
    "my_data_dir = 'E:\\\\fyp\\\\Data3'"
   ]
  },
  {
   "cell_type": "code",
   "execution_count": 41,
   "metadata": {
    "colab": {
     "base_uri": "https://localhost:8080/"
    },
    "id": "hV9FJsPDZtXk",
    "outputId": "0ab92668-1da4-437e-bc61-30dd5bc66db8"
   },
   "outputs": [
    {
     "data": {
      "text/plain": [
       "['AMD', 'flip.py', 'normal', 'Test', 'Train']"
      ]
     },
     "execution_count": 41,
     "metadata": {},
     "output_type": "execute_result"
    }
   ],
   "source": [
    "os.listdir(my_data_dir)"
   ]
  },
  {
   "cell_type": "code",
   "execution_count": 42,
   "metadata": {
    "id": "vN7P9by1aYCZ"
   },
   "outputs": [],
   "source": [
    "test_path = my_data_dir+'/Test/'\n",
    "train_path = my_data_dir+'/Train/'"
   ]
  },
  {
   "cell_type": "code",
   "execution_count": 43,
   "metadata": {
    "id": "mQUGPS9QacYb"
   },
   "outputs": [],
   "source": [
    "image_shape = (64,64,3)"
   ]
  },
  {
   "cell_type": "code",
   "execution_count": 44,
   "metadata": {
    "id": "fTalNAfuaeyv"
   },
   "outputs": [],
   "source": [
    "from tensorflow.keras.preprocessing.image import ImageDataGenerator"
   ]
  },
  {
   "cell_type": "code",
   "execution_count": 45,
   "metadata": {
    "id": "o42Y3JUsakJ1"
   },
   "outputs": [],
   "source": [
    "image_gen = ImageDataGenerator(\n",
    "#                                rotation_range=20, # rotate the image 20 degrees\n",
    "#                                width_shift_range=0.10, # Shift the pic width by a max of 5%\n",
    "#                                height_shift_range=0.10, # Shift the pic height by a max of 5%\n",
    "#                                rescale=1/255, # Rescale the image by normalzing it.\n",
    "#                                shear_range=0.1, # Shear means cutting away part of the image (max 10%)\n",
    "#                                zoom_range=0.1, # Zoom in by 10% max\n",
    "#                                horizontal_flip=True, # Allo horizontal flipping\n",
    "#                                fill_mode='nearest' # Fill in missing pixels with the nearest filled value\n",
    "                              )"
   ]
  },
  {
   "cell_type": "code",
   "execution_count": 46,
   "metadata": {
    "id": "0K9rILYpalOb"
   },
   "outputs": [],
   "source": [
    "from tensorflow.keras.models import Sequential\n",
    "from tensorflow.keras.layers import Activation, Dropout, Flatten, Dense, Conv2D, MaxPooling2D"
   ]
  },
  {
   "cell_type": "code",
   "execution_count": 47,
   "metadata": {
    "id": "HuDTckysasSP"
   },
   "outputs": [],
   "source": [
    "#https://stats.stackexchange.com/questions/148139/rules-for-selecting-convolutional-neural-network-hyperparameters\n",
    "model = Sequential()\n",
    "\n",
    "model.add(Conv2D(filters=32, kernel_size=(3,3),input_shape=image_shape, activation='relu',))\n",
    "model.add(MaxPooling2D(pool_size=(2, 2)))\n",
    "\n",
    "model.add(Conv2D(filters=64, kernel_size=(3,3),input_shape=image_shape, activation='relu',))\n",
    "model.add(MaxPooling2D(pool_size=(2, 2)))\n",
    "\n",
    "model.add(Conv2D(filters=128, kernel_size=(3,3),input_shape=image_shape, activation='relu',))\n",
    "model.add(MaxPooling2D(pool_size=(2, 2)))\n",
    "\n",
    "model.add(Conv2D(filters=256, kernel_size=(3,3),input_shape=image_shape, activation='relu',))\n",
    "model.add(MaxPooling2D(pool_size=(2, 2)))\n",
    "\n",
    "# model.add(Conv2D(filters=512, kernel_size=(3,3),input_shape=image_shape, activation='relu',))\n",
    "# model.add(MaxPooling2D(pool_size=(2, 2)))\n",
    "\n",
    "# model.add(Conv2D(filters=1024, kernel_size=(3,3),input_shape=image_shape, activation='relu',))\n",
    "# model.add(MaxPooling2D(pool_size=(2, 2)))\n",
    "\n",
    "\n",
    "model.add(Flatten())\n",
    "\n",
    "\n",
    "model.add(Dense(128))\n",
    "model.add(Activation('relu'))\n",
    "\n",
    "# Dropouts help reduce overfitting by randomly turning neurons off during training.\n",
    "# Here we say randomly turn off 50% of neurons.\n",
    "model.add(Dropout(0.3))\n",
    "\n",
    "# Last layer, remember its binary so we use sigmoid\n",
    "model.add(Dense(3))\n",
    "model.add(Activation('softmax'))\n",
    "\n",
    "model.compile(loss='categorical_crossentropy',\n",
    "              optimizer='adam',\n",
    "              metrics=['accuracy'])"
   ]
  },
  {
   "cell_type": "code",
   "execution_count": 48,
   "metadata": {
    "colab": {
     "base_uri": "https://localhost:8080/"
    },
    "id": "uWeUlxzbatIv",
    "outputId": "1f4a64c7-b351-4eea-9c48-42aaf87583d7"
   },
   "outputs": [
    {
     "name": "stdout",
     "output_type": "stream",
     "text": [
      "Model: \"sequential_4\"\n",
      "_________________________________________________________________\n",
      " Layer (type)                Output Shape              Param #   \n",
      "=================================================================\n",
      " conv2d_18 (Conv2D)          (None, 62, 62, 32)        896       \n",
      "                                                                 \n",
      " max_pooling2d_16 (MaxPoolin  (None, 31, 31, 32)       0         \n",
      " g2D)                                                            \n",
      "                                                                 \n",
      " conv2d_19 (Conv2D)          (None, 29, 29, 64)        18496     \n",
      "                                                                 \n",
      " max_pooling2d_17 (MaxPoolin  (None, 14, 14, 64)       0         \n",
      " g2D)                                                            \n",
      "                                                                 \n",
      " conv2d_20 (Conv2D)          (None, 12, 12, 128)       73856     \n",
      "                                                                 \n",
      " max_pooling2d_18 (MaxPoolin  (None, 6, 6, 128)        0         \n",
      " g2D)                                                            \n",
      "                                                                 \n",
      " conv2d_21 (Conv2D)          (None, 4, 4, 256)         295168    \n",
      "                                                                 \n",
      " max_pooling2d_19 (MaxPoolin  (None, 2, 2, 256)        0         \n",
      " g2D)                                                            \n",
      "                                                                 \n",
      " flatten_2 (Flatten)         (None, 1024)              0         \n",
      "                                                                 \n",
      " dense_4 (Dense)             (None, 128)               131200    \n",
      "                                                                 \n",
      " activation_4 (Activation)   (None, 128)               0         \n",
      "                                                                 \n",
      " dropout_2 (Dropout)         (None, 128)               0         \n",
      "                                                                 \n",
      " dense_5 (Dense)             (None, 3)                 387       \n",
      "                                                                 \n",
      " activation_5 (Activation)   (None, 3)                 0         \n",
      "                                                                 \n",
      "=================================================================\n",
      "Total params: 520,003\n",
      "Trainable params: 520,003\n",
      "Non-trainable params: 0\n",
      "_________________________________________________________________\n"
     ]
    }
   ],
   "source": [
    "model.summary()"
   ]
  },
  {
   "cell_type": "code",
   "execution_count": 49,
   "metadata": {
    "id": "96MvK-1MautK"
   },
   "outputs": [],
   "source": [
    "batch_size = 32"
   ]
  },
  {
   "cell_type": "code",
   "execution_count": 50,
   "metadata": {
    "colab": {
     "base_uri": "https://localhost:8080/"
    },
    "id": "as-o3y0baxMd",
    "outputId": "8021682c-09dd-410b-c4e0-e7f0a61d0e44"
   },
   "outputs": [
    {
     "name": "stdout",
     "output_type": "stream",
     "text": [
      "Found 986 images belonging to 3 classes.\n"
     ]
    }
   ],
   "source": [
    "train_image_gen = image_gen.flow_from_directory(train_path,\n",
    "                                               target_size=image_shape[:2],\n",
    "                                                color_mode='rgb',\n",
    "                                                batch_size=batch_size,\n",
    "                                               )"
   ]
  },
  {
   "cell_type": "code",
   "execution_count": 51,
   "metadata": {
    "colab": {
     "base_uri": "https://localhost:8080/"
    },
    "id": "WV4pDpEEayhV",
    "outputId": "77916778-c5a5-473c-c0d1-4800247ba6f2"
   },
   "outputs": [
    {
     "name": "stdout",
     "output_type": "stream",
     "text": [
      "Found 118 images belonging to 3 classes.\n"
     ]
    }
   ],
   "source": [
    "test_image_gen = image_gen.flow_from_directory(test_path,\n",
    "                                               target_size=(image_shape[:2]),\n",
    "                                               color_mode='rgb',\n",
    "                                               batch_size=batch_size,\n",
    "                                               shuffle=False)"
   ]
  },
  {
   "cell_type": "code",
   "execution_count": 52,
   "metadata": {
    "colab": {
     "base_uri": "https://localhost:8080/"
    },
    "id": "LeMVZSLba0D9",
    "outputId": "a90d6fa9-9b1c-4ab1-d503-5b2465f7e272"
   },
   "outputs": [
    {
     "data": {
      "text/plain": [
       "{'1_normal': 0, '2_cataract': 1, '2_glaucoma': 2}"
      ]
     },
     "execution_count": 52,
     "metadata": {},
     "output_type": "execute_result"
    }
   ],
   "source": [
    "train_image_gen.class_indices"
   ]
  },
  {
   "cell_type": "code",
   "execution_count": 53,
   "metadata": {
    "id": "mqg7wZ2ta1c3"
   },
   "outputs": [],
   "source": [
    "import warnings\n",
    "warnings.filterwarnings('ignore')"
   ]
  },
  {
   "cell_type": "code",
   "execution_count": 55,
   "metadata": {
    "colab": {
     "base_uri": "https://localhost:8080/"
    },
    "id": "jSFZbB__a3Ca",
    "outputId": "a53f3031-bc27-4393-fdd7-540b5e488837"
   },
   "outputs": [
    {
     "name": "stdout",
     "output_type": "stream",
     "text": [
      "Epoch 1/250\n",
      "31/31 [==============================] - 76s 2s/step - loss: 0.1051 - accuracy: 0.9635 - val_loss: 1.7741 - val_accuracy: 0.6780\n",
      "Epoch 2/250\n",
      "31/31 [==============================] - 73s 2s/step - loss: 0.0603 - accuracy: 0.9817 - val_loss: 2.2916 - val_accuracy: 0.6780\n",
      "Epoch 3/250\n",
      "31/31 [==============================] - 73s 2s/step - loss: 0.0753 - accuracy: 0.9716 - val_loss: 2.1124 - val_accuracy: 0.6695\n",
      "Epoch 4/250\n",
      "31/31 [==============================] - 73s 2s/step - loss: 0.0532 - accuracy: 0.9828 - val_loss: 2.3151 - val_accuracy: 0.6610\n",
      "Epoch 5/250\n",
      "31/31 [==============================] - 73s 2s/step - loss: 0.1164 - accuracy: 0.9615 - val_loss: 2.1269 - val_accuracy: 0.6441\n",
      "Epoch 6/250\n",
      "31/31 [==============================] - 74s 2s/step - loss: 0.1102 - accuracy: 0.9574 - val_loss: 1.4489 - val_accuracy: 0.6610\n",
      "Epoch 7/250\n",
      "31/31 [==============================] - 76s 2s/step - loss: 0.0579 - accuracy: 0.9817 - val_loss: 2.0150 - val_accuracy: 0.6780\n",
      "Epoch 8/250\n",
      "31/31 [==============================] - 73s 2s/step - loss: 0.1127 - accuracy: 0.9594 - val_loss: 1.7775 - val_accuracy: 0.6780\n",
      "Epoch 9/250\n",
      "31/31 [==============================] - 74s 2s/step - loss: 0.0903 - accuracy: 0.9675 - val_loss: 1.3260 - val_accuracy: 0.6864\n",
      "Epoch 10/250\n",
      "31/31 [==============================] - 74s 2s/step - loss: 0.0934 - accuracy: 0.9604 - val_loss: 1.5089 - val_accuracy: 0.6949\n",
      "Epoch 11/250\n",
      "31/31 [==============================] - 73s 2s/step - loss: 0.0855 - accuracy: 0.9746 - val_loss: 1.7109 - val_accuracy: 0.7034\n",
      "Epoch 12/250\n",
      "31/31 [==============================] - 73s 2s/step - loss: 0.0485 - accuracy: 0.9817 - val_loss: 2.1439 - val_accuracy: 0.6610\n",
      "Epoch 13/250\n",
      "31/31 [==============================] - 73s 2s/step - loss: 0.0503 - accuracy: 0.9817 - val_loss: 3.4801 - val_accuracy: 0.5678\n",
      "Epoch 14/250\n",
      "31/31 [==============================] - 73s 2s/step - loss: 0.1208 - accuracy: 0.9574 - val_loss: 1.3249 - val_accuracy: 0.6864\n",
      "Epoch 15/250\n",
      "31/31 [==============================] - 73s 2s/step - loss: 0.0850 - accuracy: 0.9675 - val_loss: 1.6479 - val_accuracy: 0.6441\n",
      "Epoch 16/250\n",
      "31/31 [==============================] - 73s 2s/step - loss: 0.0703 - accuracy: 0.9797 - val_loss: 1.9750 - val_accuracy: 0.6525\n",
      "Epoch 17/250\n",
      "31/31 [==============================] - 73s 2s/step - loss: 0.0400 - accuracy: 0.9828 - val_loss: 2.4525 - val_accuracy: 0.6949\n",
      "Epoch 18/250\n",
      "31/31 [==============================] - 75s 2s/step - loss: 0.0868 - accuracy: 0.9716 - val_loss: 2.2042 - val_accuracy: 0.7034\n",
      "Epoch 19/250\n",
      "31/31 [==============================] - 73s 2s/step - loss: 0.0391 - accuracy: 0.9909 - val_loss: 1.9868 - val_accuracy: 0.7203\n",
      "Epoch 20/250\n",
      "31/31 [==============================] - 73s 2s/step - loss: 0.0468 - accuracy: 0.9828 - val_loss: 2.9486 - val_accuracy: 0.6441\n",
      "Epoch 21/250\n",
      "31/31 [==============================] - 73s 2s/step - loss: 0.0667 - accuracy: 0.9746 - val_loss: 1.9178 - val_accuracy: 0.6949\n",
      "Epoch 22/250\n",
      "31/31 [==============================] - 73s 2s/step - loss: 0.0637 - accuracy: 0.9726 - val_loss: 2.5613 - val_accuracy: 0.6441\n",
      "Epoch 23/250\n",
      "31/31 [==============================] - 73s 2s/step - loss: 0.0359 - accuracy: 0.9888 - val_loss: 2.2425 - val_accuracy: 0.7373\n",
      "Epoch 24/250\n",
      "31/31 [==============================] - 74s 2s/step - loss: 0.0534 - accuracy: 0.9797 - val_loss: 1.9595 - val_accuracy: 0.6695\n",
      "Epoch 25/250\n",
      "31/31 [==============================] - 74s 2s/step - loss: 0.0468 - accuracy: 0.9868 - val_loss: 2.5657 - val_accuracy: 0.6695\n",
      "Epoch 26/250\n",
      "31/31 [==============================] - 75s 2s/step - loss: 0.0260 - accuracy: 0.9929 - val_loss: 2.4230 - val_accuracy: 0.6864\n",
      "Epoch 27/250\n",
      "31/31 [==============================] - 74s 2s/step - loss: 0.0256 - accuracy: 0.9939 - val_loss: 3.1666 - val_accuracy: 0.6356\n",
      "Epoch 28/250\n",
      "31/31 [==============================] - 74s 2s/step - loss: 0.0222 - accuracy: 0.9939 - val_loss: 2.8147 - val_accuracy: 0.6441\n",
      "Epoch 29/250\n",
      "31/31 [==============================] - 74s 2s/step - loss: 0.0220 - accuracy: 0.9929 - val_loss: 2.5479 - val_accuracy: 0.7119\n",
      "Epoch 30/250\n",
      "31/31 [==============================] - 74s 2s/step - loss: 0.0059 - accuracy: 0.9990 - val_loss: 2.8008 - val_accuracy: 0.7288\n",
      "Epoch 31/250\n",
      "31/31 [==============================] - 74s 2s/step - loss: 0.0019 - accuracy: 0.9990 - val_loss: 2.9778 - val_accuracy: 0.7034\n",
      "Epoch 32/250\n",
      "31/31 [==============================] - 75s 2s/step - loss: 0.0013 - accuracy: 1.0000 - val_loss: 3.0741 - val_accuracy: 0.6949\n",
      "Epoch 33/250\n",
      "31/31 [==============================] - 74s 2s/step - loss: 0.0012 - accuracy: 1.0000 - val_loss: 3.1877 - val_accuracy: 0.7119\n",
      "Epoch 34/250\n",
      "31/31 [==============================] - 75s 2s/step - loss: 3.0964e-04 - accuracy: 1.0000 - val_loss: 3.2247 - val_accuracy: 0.7034\n",
      "Epoch 35/250\n",
      "31/31 [==============================] - 74s 2s/step - loss: 6.5504e-04 - accuracy: 1.0000 - val_loss: 3.3529 - val_accuracy: 0.6949\n",
      "Epoch 36/250\n",
      "31/31 [==============================] - 75s 2s/step - loss: 2.4085e-04 - accuracy: 1.0000 - val_loss: 3.3285 - val_accuracy: 0.6949\n",
      "Epoch 37/250\n",
      "31/31 [==============================] - 74s 2s/step - loss: 1.7199e-04 - accuracy: 1.0000 - val_loss: 3.3304 - val_accuracy: 0.7119\n",
      "Epoch 38/250\n",
      "31/31 [==============================] - 74s 2s/step - loss: 2.6789e-04 - accuracy: 1.0000 - val_loss: 3.3580 - val_accuracy: 0.7034\n",
      "Epoch 39/250\n",
      "31/31 [==============================] - 74s 2s/step - loss: 1.0630e-04 - accuracy: 1.0000 - val_loss: 3.4139 - val_accuracy: 0.7034\n",
      "Epoch 40/250\n",
      "31/31 [==============================] - 74s 2s/step - loss: 1.1776e-04 - accuracy: 1.0000 - val_loss: 3.4467 - val_accuracy: 0.7034\n",
      "Epoch 41/250\n",
      "31/31 [==============================] - 74s 2s/step - loss: 1.2229e-04 - accuracy: 1.0000 - val_loss: 3.4706 - val_accuracy: 0.7034\n",
      "Epoch 42/250\n",
      "31/31 [==============================] - 75s 2s/step - loss: 6.3319e-05 - accuracy: 1.0000 - val_loss: 3.5099 - val_accuracy: 0.7034\n",
      "Epoch 43/250\n",
      "31/31 [==============================] - 74s 2s/step - loss: 6.2122e-05 - accuracy: 1.0000 - val_loss: 3.5543 - val_accuracy: 0.7034\n",
      "Epoch 44/250\n",
      "31/31 [==============================] - 74s 2s/step - loss: 3.1234e-04 - accuracy: 1.0000 - val_loss: 3.6050 - val_accuracy: 0.7034\n",
      "Epoch 45/250\n",
      "31/31 [==============================] - 75s 2s/step - loss: 9.2308e-05 - accuracy: 1.0000 - val_loss: 3.7015 - val_accuracy: 0.6949\n",
      "Epoch 46/250\n",
      "31/31 [==============================] - 74s 2s/step - loss: 3.7199e-05 - accuracy: 1.0000 - val_loss: 3.6999 - val_accuracy: 0.7034\n",
      "Epoch 47/250\n",
      "31/31 [==============================] - 74s 2s/step - loss: 4.6113e-05 - accuracy: 1.0000 - val_loss: 3.6835 - val_accuracy: 0.7034\n",
      "Epoch 48/250\n",
      "31/31 [==============================] - 74s 2s/step - loss: 1.3138e-04 - accuracy: 1.0000 - val_loss: 3.7213 - val_accuracy: 0.7119\n",
      "Epoch 49/250\n",
      "31/31 [==============================] - 74s 2s/step - loss: 4.2748e-05 - accuracy: 1.0000 - val_loss: 3.7520 - val_accuracy: 0.7034\n",
      "Epoch 50/250\n",
      "31/31 [==============================] - 75s 2s/step - loss: 4.7918e-05 - accuracy: 1.0000 - val_loss: 3.7413 - val_accuracy: 0.6949\n",
      "Epoch 51/250\n",
      "31/31 [==============================] - 74s 2s/step - loss: 4.1033e-05 - accuracy: 1.0000 - val_loss: 3.7532 - val_accuracy: 0.7034\n",
      "Epoch 52/250\n",
      "31/31 [==============================] - 74s 2s/step - loss: 9.3416e-05 - accuracy: 1.0000 - val_loss: 3.7605 - val_accuracy: 0.7034\n",
      "Epoch 53/250\n",
      "31/31 [==============================] - 74s 2s/step - loss: 3.5283e-05 - accuracy: 1.0000 - val_loss: 3.8068 - val_accuracy: 0.7034\n",
      "Epoch 54/250\n",
      "31/31 [==============================] - 74s 2s/step - loss: 9.3489e-05 - accuracy: 1.0000 - val_loss: 3.7243 - val_accuracy: 0.7203\n",
      "Epoch 55/250\n",
      "31/31 [==============================] - 74s 2s/step - loss: 4.5060e-05 - accuracy: 1.0000 - val_loss: 3.7575 - val_accuracy: 0.7119\n",
      "Epoch 56/250\n",
      "31/31 [==============================] - 74s 2s/step - loss: 3.0316e-05 - accuracy: 1.0000 - val_loss: 3.8017 - val_accuracy: 0.7119\n",
      "Epoch 57/250\n",
      "31/31 [==============================] - 74s 2s/step - loss: 3.5024e-05 - accuracy: 1.0000 - val_loss: 3.8520 - val_accuracy: 0.7119\n",
      "Epoch 58/250\n"
     ]
    },
    {
     "name": "stdout",
     "output_type": "stream",
     "text": [
      "31/31 [==============================] - 75s 2s/step - loss: 3.2369e-05 - accuracy: 1.0000 - val_loss: 3.8824 - val_accuracy: 0.7119\n",
      "Epoch 59/250\n",
      "31/31 [==============================] - 73s 2s/step - loss: 4.2299e-05 - accuracy: 1.0000 - val_loss: 3.8989 - val_accuracy: 0.7203\n",
      "Epoch 60/250\n",
      "31/31 [==============================] - 73s 2s/step - loss: 5.0658e-05 - accuracy: 1.0000 - val_loss: 3.9006 - val_accuracy: 0.7203\n",
      "Epoch 61/250\n",
      "31/31 [==============================] - 73s 2s/step - loss: 2.4871e-05 - accuracy: 1.0000 - val_loss: 3.9446 - val_accuracy: 0.7203\n",
      "Epoch 62/250\n",
      "31/31 [==============================] - 73s 2s/step - loss: 4.7305e-05 - accuracy: 1.0000 - val_loss: 3.9879 - val_accuracy: 0.7119\n",
      "Epoch 63/250\n",
      "31/31 [==============================] - 73s 2s/step - loss: 4.8720e-05 - accuracy: 1.0000 - val_loss: 3.9750 - val_accuracy: 0.7119\n",
      "Epoch 64/250\n",
      "31/31 [==============================] - 73s 2s/step - loss: 3.4674e-05 - accuracy: 1.0000 - val_loss: 3.9686 - val_accuracy: 0.7203\n",
      "Epoch 65/250\n",
      "31/31 [==============================] - 73s 2s/step - loss: 2.4294e-05 - accuracy: 1.0000 - val_loss: 4.0418 - val_accuracy: 0.7203\n",
      "Epoch 66/250\n",
      "31/31 [==============================] - 75s 2s/step - loss: 2.4739e-05 - accuracy: 1.0000 - val_loss: 4.0595 - val_accuracy: 0.7203\n",
      "Epoch 67/250\n",
      "31/31 [==============================] - 73s 2s/step - loss: 4.5380e-05 - accuracy: 1.0000 - val_loss: 4.0957 - val_accuracy: 0.7034\n",
      "Epoch 68/250\n",
      "31/31 [==============================] - 73s 2s/step - loss: 9.6296e-06 - accuracy: 1.0000 - val_loss: 4.1116 - val_accuracy: 0.7034\n",
      "Epoch 69/250\n",
      "31/31 [==============================] - 73s 2s/step - loss: 1.0574e-04 - accuracy: 1.0000 - val_loss: 4.1886 - val_accuracy: 0.7119\n",
      "Epoch 70/250\n",
      "31/31 [==============================] - 73s 2s/step - loss: 1.9280e-05 - accuracy: 1.0000 - val_loss: 4.2166 - val_accuracy: 0.7119\n",
      "Epoch 71/250\n",
      "31/31 [==============================] - 73s 2s/step - loss: 1.8149e-05 - accuracy: 1.0000 - val_loss: 4.1682 - val_accuracy: 0.7119\n",
      "Epoch 72/250\n",
      "31/31 [==============================] - 73s 2s/step - loss: 3.3772e-05 - accuracy: 1.0000 - val_loss: 4.1924 - val_accuracy: 0.7034\n",
      "Epoch 73/250\n",
      "31/31 [==============================] - 74s 2s/step - loss: 1.8543e-05 - accuracy: 1.0000 - val_loss: 4.2018 - val_accuracy: 0.7034\n",
      "Epoch 74/250\n",
      "31/31 [==============================] - 75s 2s/step - loss: 2.5295e-05 - accuracy: 1.0000 - val_loss: 4.2171 - val_accuracy: 0.7034\n",
      "Epoch 75/250\n",
      "31/31 [==============================] - 74s 2s/step - loss: 9.7685e-06 - accuracy: 1.0000 - val_loss: 4.2441 - val_accuracy: 0.7034\n",
      "Epoch 76/250\n",
      "31/31 [==============================] - 74s 2s/step - loss: 2.6376e-05 - accuracy: 1.0000 - val_loss: 4.2409 - val_accuracy: 0.7119\n",
      "Epoch 77/250\n",
      "31/31 [==============================] - 75s 2s/step - loss: 3.1005e-04 - accuracy: 1.0000 - val_loss: 3.9948 - val_accuracy: 0.7203\n",
      "Epoch 78/250\n",
      "31/31 [==============================] - 74s 2s/step - loss: 2.4919e-05 - accuracy: 1.0000 - val_loss: 4.0388 - val_accuracy: 0.7203\n",
      "Epoch 79/250\n",
      "31/31 [==============================] - 74s 2s/step - loss: 2.5390e-05 - accuracy: 1.0000 - val_loss: 4.0862 - val_accuracy: 0.7203\n",
      "Epoch 80/250\n",
      "31/31 [==============================] - 75s 2s/step - loss: 2.5194e-05 - accuracy: 1.0000 - val_loss: 4.1342 - val_accuracy: 0.7203\n",
      "Epoch 81/250\n",
      "31/31 [==============================] - 75s 2s/step - loss: 1.7419e-05 - accuracy: 1.0000 - val_loss: 4.1763 - val_accuracy: 0.7119\n",
      "Epoch 82/250\n",
      "31/31 [==============================] - 75s 2s/step - loss: 7.8455e-05 - accuracy: 1.0000 - val_loss: 4.2204 - val_accuracy: 0.7034\n",
      "Epoch 83/250\n",
      "31/31 [==============================] - 75s 2s/step - loss: 1.1915e-05 - accuracy: 1.0000 - val_loss: 4.2470 - val_accuracy: 0.7119\n",
      "Epoch 84/250\n",
      "31/31 [==============================] - 74s 2s/step - loss: 2.0405e-05 - accuracy: 1.0000 - val_loss: 4.2863 - val_accuracy: 0.7034\n",
      "Epoch 85/250\n",
      "31/31 [==============================] - 75s 2s/step - loss: 8.4915e-05 - accuracy: 1.0000 - val_loss: 4.2271 - val_accuracy: 0.6949\n",
      "Epoch 86/250\n",
      "31/31 [==============================] - 75s 2s/step - loss: 0.0016 - accuracy: 0.9990 - val_loss: 3.4562 - val_accuracy: 0.7373\n",
      "Epoch 87/250\n",
      "31/31 [==============================] - 75s 2s/step - loss: 0.1629 - accuracy: 0.9544 - val_loss: 1.1066 - val_accuracy: 0.5763\n",
      "Epoch 88/250\n",
      "31/31 [==============================] - 74s 2s/step - loss: 0.4929 - accuracy: 0.8215 - val_loss: 0.9637 - val_accuracy: 0.6017\n",
      "Epoch 89/250\n",
      "31/31 [==============================] - 73s 2s/step - loss: 0.3795 - accuracy: 0.8692 - val_loss: 1.5708 - val_accuracy: 0.5593\n",
      "Epoch 90/250\n",
      "31/31 [==============================] - 75s 2s/step - loss: 0.2415 - accuracy: 0.9128 - val_loss: 1.5699 - val_accuracy: 0.7034\n",
      "Epoch 91/250\n",
      "31/31 [==============================] - 74s 2s/step - loss: 0.2256 - accuracy: 0.9280 - val_loss: 1.5612 - val_accuracy: 0.7203\n",
      "Epoch 92/250\n",
      "31/31 [==============================] - 73s 2s/step - loss: 0.1737 - accuracy: 0.9310 - val_loss: 1.9568 - val_accuracy: 0.6441\n",
      "Epoch 93/250\n",
      "31/31 [==============================] - 73s 2s/step - loss: 0.1966 - accuracy: 0.9320 - val_loss: 1.3949 - val_accuracy: 0.6695\n",
      "Epoch 94/250\n",
      "31/31 [==============================] - 73s 2s/step - loss: 0.1786 - accuracy: 0.9422 - val_loss: 1.5345 - val_accuracy: 0.6525\n",
      "Epoch 95/250\n",
      "31/31 [==============================] - 73s 2s/step - loss: 0.1299 - accuracy: 0.9594 - val_loss: 2.1768 - val_accuracy: 0.7458\n",
      "Epoch 96/250\n",
      "31/31 [==============================] - 74s 2s/step - loss: 0.0983 - accuracy: 0.9675 - val_loss: 2.1291 - val_accuracy: 0.7458\n",
      "Epoch 97/250\n",
      "31/31 [==============================] - 74s 2s/step - loss: 0.1101 - accuracy: 0.9564 - val_loss: 2.0785 - val_accuracy: 0.6949\n",
      "Epoch 98/250\n",
      "31/31 [==============================] - 74s 2s/step - loss: 0.0849 - accuracy: 0.9686 - val_loss: 2.0545 - val_accuracy: 0.6780\n",
      "Epoch 99/250\n",
      "31/31 [==============================] - 75s 2s/step - loss: 0.1373 - accuracy: 0.9503 - val_loss: 2.1453 - val_accuracy: 0.6102\n",
      "Epoch 100/250\n",
      "31/31 [==============================] - 74s 2s/step - loss: 0.0722 - accuracy: 0.9746 - val_loss: 2.5525 - val_accuracy: 0.6780\n",
      "Epoch 101/250\n",
      "31/31 [==============================] - 74s 2s/step - loss: 0.0435 - accuracy: 0.9777 - val_loss: 2.7268 - val_accuracy: 0.7203\n",
      "Epoch 102/250\n",
      "31/31 [==============================] - 74s 2s/step - loss: 0.0811 - accuracy: 0.9696 - val_loss: 2.1626 - val_accuracy: 0.6186\n",
      "Epoch 103/250\n",
      "31/31 [==============================] - 74s 2s/step - loss: 0.0874 - accuracy: 0.9675 - val_loss: 2.2252 - val_accuracy: 0.6356\n",
      "Epoch 104/250\n",
      "31/31 [==============================] - 74s 2s/step - loss: 0.0853 - accuracy: 0.9726 - val_loss: 1.8646 - val_accuracy: 0.6525\n",
      "Epoch 105/250\n",
      "31/31 [==============================] - 74s 2s/step - loss: 0.0745 - accuracy: 0.9787 - val_loss: 2.8096 - val_accuracy: 0.6864\n",
      "Epoch 106/250\n",
      "31/31 [==============================] - 74s 2s/step - loss: 0.0900 - accuracy: 0.9736 - val_loss: 2.1194 - val_accuracy: 0.7119\n",
      "Epoch 107/250\n",
      "31/31 [==============================] - 75s 2s/step - loss: 0.1292 - accuracy: 0.9584 - val_loss: 2.0557 - val_accuracy: 0.6949\n",
      "Epoch 108/250\n",
      "31/31 [==============================] - 74s 2s/step - loss: 0.1159 - accuracy: 0.9533 - val_loss: 1.8001 - val_accuracy: 0.7288\n",
      "Epoch 109/250\n",
      "31/31 [==============================] - 73s 2s/step - loss: 0.0314 - accuracy: 0.9899 - val_loss: 3.2560 - val_accuracy: 0.6864\n",
      "Epoch 110/250\n",
      "31/31 [==============================] - 73s 2s/step - loss: 0.0408 - accuracy: 0.9868 - val_loss: 2.6114 - val_accuracy: 0.6356\n",
      "Epoch 111/250\n",
      "31/31 [==============================] - 73s 2s/step - loss: 0.0656 - accuracy: 0.9767 - val_loss: 2.5579 - val_accuracy: 0.6864\n",
      "Epoch 112/250\n",
      "31/31 [==============================] - 73s 2s/step - loss: 0.0460 - accuracy: 0.9878 - val_loss: 3.3977 - val_accuracy: 0.6610\n",
      "Epoch 113/250\n",
      "31/31 [==============================] - 73s 2s/step - loss: 0.0260 - accuracy: 0.9929 - val_loss: 2.6835 - val_accuracy: 0.6864\n",
      "Epoch 114/250\n",
      "31/31 [==============================] - 73s 2s/step - loss: 0.0205 - accuracy: 0.9939 - val_loss: 2.9138 - val_accuracy: 0.7119\n"
     ]
    },
    {
     "name": "stdout",
     "output_type": "stream",
     "text": [
      "Epoch 115/250\n",
      "31/31 [==============================] - 75s 2s/step - loss: 0.0361 - accuracy: 0.9878 - val_loss: 2.8834 - val_accuracy: 0.6356\n",
      "Epoch 116/250\n",
      "31/31 [==============================] - 73s 2s/step - loss: 0.1739 - accuracy: 0.9412 - val_loss: 1.7132 - val_accuracy: 0.6186\n",
      "Epoch 117/250\n",
      "31/31 [==============================] - 73s 2s/step - loss: 0.0691 - accuracy: 0.9726 - val_loss: 2.5196 - val_accuracy: 0.7034\n",
      "Epoch 118/250\n",
      "31/31 [==============================] - 75s 2s/step - loss: 0.0267 - accuracy: 0.9899 - val_loss: 2.5593 - val_accuracy: 0.7288\n",
      "Epoch 119/250\n",
      "31/31 [==============================] - 75s 2s/step - loss: 0.0163 - accuracy: 0.9949 - val_loss: 3.0890 - val_accuracy: 0.7203\n",
      "Epoch 120/250\n",
      "31/31 [==============================] - 75s 2s/step - loss: 0.0192 - accuracy: 0.9949 - val_loss: 3.6008 - val_accuracy: 0.6949\n",
      "Epoch 121/250\n",
      "31/31 [==============================] - 75s 2s/step - loss: 0.0133 - accuracy: 0.9949 - val_loss: 3.9012 - val_accuracy: 0.6949\n",
      "Epoch 122/250\n",
      "31/31 [==============================] - 75s 2s/step - loss: 0.1012 - accuracy: 0.9655 - val_loss: 2.3782 - val_accuracy: 0.6441\n",
      "Epoch 123/250\n",
      "31/31 [==============================] - 76s 2s/step - loss: 0.0402 - accuracy: 0.9838 - val_loss: 2.3253 - val_accuracy: 0.7034\n",
      "Epoch 124/250\n",
      "31/31 [==============================] - 75s 2s/step - loss: 0.0097 - accuracy: 0.9990 - val_loss: 3.1099 - val_accuracy: 0.6949\n",
      "Epoch 125/250\n",
      "31/31 [==============================] - 74s 2s/step - loss: 0.0227 - accuracy: 0.9939 - val_loss: 3.3681 - val_accuracy: 0.6610\n",
      "Epoch 126/250\n",
      "31/31 [==============================] - 74s 2s/step - loss: 0.0297 - accuracy: 0.9888 - val_loss: 3.0251 - val_accuracy: 0.6780\n",
      "Epoch 127/250\n",
      "31/31 [==============================] - 74s 2s/step - loss: 0.0107 - accuracy: 0.9970 - val_loss: 3.3708 - val_accuracy: 0.6695\n",
      "Epoch 128/250\n",
      "31/31 [==============================] - 75s 2s/step - loss: 0.0579 - accuracy: 0.9807 - val_loss: 2.9531 - val_accuracy: 0.6441\n",
      "Epoch 129/250\n",
      "31/31 [==============================] - 74s 2s/step - loss: 0.0336 - accuracy: 0.9878 - val_loss: 2.8782 - val_accuracy: 0.6441\n",
      "Epoch 130/250\n",
      "31/31 [==============================] - 75s 2s/step - loss: 0.0223 - accuracy: 0.9919 - val_loss: 4.2630 - val_accuracy: 0.6525\n",
      "Epoch 131/250\n",
      "31/31 [==============================] - 75s 2s/step - loss: 0.0297 - accuracy: 0.9919 - val_loss: 5.0047 - val_accuracy: 0.6356\n",
      "Epoch 132/250\n",
      "31/31 [==============================] - 74s 2s/step - loss: 0.1431 - accuracy: 0.9513 - val_loss: 3.2332 - val_accuracy: 0.6610\n",
      "Epoch 133/250\n",
      "31/31 [==============================] - 74s 2s/step - loss: 0.0811 - accuracy: 0.9696 - val_loss: 2.9821 - val_accuracy: 0.6271\n",
      "Epoch 134/250\n",
      "31/31 [==============================] - 74s 2s/step - loss: 0.0589 - accuracy: 0.9757 - val_loss: 2.6092 - val_accuracy: 0.6441\n",
      "Epoch 135/250\n",
      "31/31 [==============================] - 74s 2s/step - loss: 0.0433 - accuracy: 0.9817 - val_loss: 3.2471 - val_accuracy: 0.7034\n",
      "Epoch 136/250\n",
      "31/31 [==============================] - 74s 2s/step - loss: 0.0163 - accuracy: 0.9949 - val_loss: 3.8838 - val_accuracy: 0.6949\n",
      "Epoch 137/250\n",
      "31/31 [==============================] - 74s 2s/step - loss: 0.0037 - accuracy: 1.0000 - val_loss: 4.1857 - val_accuracy: 0.6610\n",
      "Epoch 138/250\n",
      "31/31 [==============================] - 74s 2s/step - loss: 0.0015 - accuracy: 1.0000 - val_loss: 4.9726 - val_accuracy: 0.6780\n",
      "Epoch 139/250\n",
      "31/31 [==============================] - 75s 2s/step - loss: 0.0014 - accuracy: 1.0000 - val_loss: 4.7819 - val_accuracy: 0.7034\n",
      "Epoch 140/250\n",
      "31/31 [==============================] - 74s 2s/step - loss: 3.3413e-04 - accuracy: 1.0000 - val_loss: 4.7883 - val_accuracy: 0.7034\n",
      "Epoch 141/250\n",
      "31/31 [==============================] - 74s 2s/step - loss: 0.0012 - accuracy: 1.0000 - val_loss: 4.4906 - val_accuracy: 0.7119\n",
      "Epoch 142/250\n",
      "31/31 [==============================] - 74s 2s/step - loss: 0.0016 - accuracy: 1.0000 - val_loss: 4.0253 - val_accuracy: 0.7203\n",
      "Epoch 143/250\n",
      "31/31 [==============================] - 74s 2s/step - loss: 0.0013 - accuracy: 1.0000 - val_loss: 4.5733 - val_accuracy: 0.7034\n",
      "Epoch 144/250\n",
      "31/31 [==============================] - 74s 2s/step - loss: 6.4076e-04 - accuracy: 1.0000 - val_loss: 5.1113 - val_accuracy: 0.7119\n",
      "Epoch 145/250\n",
      "31/31 [==============================] - 74s 2s/step - loss: 9.3632e-04 - accuracy: 1.0000 - val_loss: 4.9702 - val_accuracy: 0.7119\n",
      "Epoch 146/250\n",
      "31/31 [==============================] - 74s 2s/step - loss: 1.0131e-04 - accuracy: 1.0000 - val_loss: 5.0757 - val_accuracy: 0.7034\n",
      "Epoch 147/250\n",
      "31/31 [==============================] - 75s 2s/step - loss: 4.4556e-04 - accuracy: 1.0000 - val_loss: 5.1280 - val_accuracy: 0.6949\n",
      "Epoch 148/250\n",
      "31/31 [==============================] - 74s 2s/step - loss: 9.0742e-05 - accuracy: 1.0000 - val_loss: 5.0783 - val_accuracy: 0.6949\n",
      "Epoch 149/250\n",
      "31/31 [==============================] - 74s 2s/step - loss: 8.3851e-05 - accuracy: 1.0000 - val_loss: 5.0960 - val_accuracy: 0.6949\n",
      "Epoch 150/250\n",
      "31/31 [==============================] - 74s 2s/step - loss: 1.0069e-04 - accuracy: 1.0000 - val_loss: 5.1440 - val_accuracy: 0.6949\n",
      "Epoch 151/250\n",
      "31/31 [==============================] - 74s 2s/step - loss: 1.2664e-04 - accuracy: 1.0000 - val_loss: 5.1661 - val_accuracy: 0.6949\n",
      "Epoch 152/250\n",
      "31/31 [==============================] - 74s 2s/step - loss: 5.4240e-05 - accuracy: 1.0000 - val_loss: 5.2090 - val_accuracy: 0.7119\n",
      "Epoch 153/250\n",
      "31/31 [==============================] - 74s 2s/step - loss: 8.8595e-05 - accuracy: 1.0000 - val_loss: 5.2889 - val_accuracy: 0.7034\n",
      "Epoch 154/250\n",
      "31/31 [==============================] - 74s 2s/step - loss: 1.0372e-04 - accuracy: 1.0000 - val_loss: 5.3566 - val_accuracy: 0.6949\n",
      "Epoch 155/250\n",
      "31/31 [==============================] - 75s 2s/step - loss: 2.9853e-05 - accuracy: 1.0000 - val_loss: 5.3861 - val_accuracy: 0.6949\n",
      "Epoch 156/250\n",
      "31/31 [==============================] - 74s 2s/step - loss: 4.1160e-05 - accuracy: 1.0000 - val_loss: 5.3792 - val_accuracy: 0.7034\n",
      "Epoch 157/250\n",
      "31/31 [==============================] - 73s 2s/step - loss: 1.0912e-04 - accuracy: 1.0000 - val_loss: 5.4187 - val_accuracy: 0.6949\n",
      "Epoch 158/250\n",
      "31/31 [==============================] - 74s 2s/step - loss: 1.3664e-05 - accuracy: 1.0000 - val_loss: 5.4782 - val_accuracy: 0.6864\n",
      "Epoch 159/250\n",
      "31/31 [==============================] - 74s 2s/step - loss: 1.0006e-04 - accuracy: 1.0000 - val_loss: 5.5062 - val_accuracy: 0.6864\n",
      "Epoch 160/250\n",
      "31/31 [==============================] - 73s 2s/step - loss: 3.0058e-05 - accuracy: 1.0000 - val_loss: 5.5783 - val_accuracy: 0.6864\n",
      "Epoch 161/250\n",
      "31/31 [==============================] - 73s 2s/step - loss: 3.6013e-05 - accuracy: 1.0000 - val_loss: 5.6571 - val_accuracy: 0.6949\n",
      "Epoch 162/250\n",
      "31/31 [==============================] - 73s 2s/step - loss: 1.1351e-04 - accuracy: 1.0000 - val_loss: 5.6869 - val_accuracy: 0.6949\n",
      "Epoch 163/250\n",
      "31/31 [==============================] - 75s 2s/step - loss: 4.7335e-05 - accuracy: 1.0000 - val_loss: 5.7615 - val_accuracy: 0.6780\n",
      "Epoch 164/250\n",
      "31/31 [==============================] - 74s 2s/step - loss: 2.0023e-05 - accuracy: 1.0000 - val_loss: 5.8048 - val_accuracy: 0.6780\n",
      "Epoch 165/250\n",
      "31/31 [==============================] - 74s 2s/step - loss: 2.7034e-05 - accuracy: 1.0000 - val_loss: 5.8174 - val_accuracy: 0.6780\n",
      "Epoch 166/250\n",
      "31/31 [==============================] - 74s 2s/step - loss: 4.0215e-05 - accuracy: 1.0000 - val_loss: 5.7731 - val_accuracy: 0.6864\n",
      "Epoch 167/250\n",
      "31/31 [==============================] - 74s 2s/step - loss: 7.4263e-05 - accuracy: 1.0000 - val_loss: 5.8946 - val_accuracy: 0.6949\n",
      "Epoch 168/250\n",
      "31/31 [==============================] - 74s 2s/step - loss: 1.4495e-05 - accuracy: 1.0000 - val_loss: 6.0068 - val_accuracy: 0.6949\n",
      "Epoch 169/250\n",
      "31/31 [==============================] - 74s 2s/step - loss: 1.7003e-05 - accuracy: 1.0000 - val_loss: 6.1324 - val_accuracy: 0.6949\n",
      "Epoch 170/250\n",
      "31/31 [==============================] - 74s 2s/step - loss: 1.7394e-05 - accuracy: 1.0000 - val_loss: 6.2095 - val_accuracy: 0.6949\n",
      "Epoch 171/250\n"
     ]
    },
    {
     "name": "stdout",
     "output_type": "stream",
     "text": [
      "31/31 [==============================] - 74s 2s/step - loss: 1.7809e-05 - accuracy: 1.0000 - val_loss: 6.2127 - val_accuracy: 0.7034\n",
      "Epoch 172/250\n",
      "31/31 [==============================] - 75s 2s/step - loss: 7.7452e-06 - accuracy: 1.0000 - val_loss: 6.2918 - val_accuracy: 0.6949\n",
      "Epoch 173/250\n",
      "31/31 [==============================] - 73s 2s/step - loss: 1.1231e-05 - accuracy: 1.0000 - val_loss: 6.2919 - val_accuracy: 0.6949\n",
      "Epoch 174/250\n",
      "31/31 [==============================] - 73s 2s/step - loss: 2.0032e-05 - accuracy: 1.0000 - val_loss: 6.4306 - val_accuracy: 0.6949\n",
      "Epoch 175/250\n",
      "31/31 [==============================] - 73s 2s/step - loss: 1.0185e-05 - accuracy: 1.0000 - val_loss: 6.4175 - val_accuracy: 0.6949\n",
      "Epoch 176/250\n",
      "31/31 [==============================] - 74s 2s/step - loss: 1.4195e-05 - accuracy: 1.0000 - val_loss: 6.3221 - val_accuracy: 0.6949\n",
      "Epoch 177/250\n",
      "31/31 [==============================] - 74s 2s/step - loss: 1.4150e-05 - accuracy: 1.0000 - val_loss: 6.3563 - val_accuracy: 0.6949\n",
      "Epoch 178/250\n",
      "31/31 [==============================] - 74s 2s/step - loss: 1.6027e-05 - accuracy: 1.0000 - val_loss: 6.3775 - val_accuracy: 0.6949\n",
      "Epoch 179/250\n",
      "31/31 [==============================] - 74s 2s/step - loss: 8.4354e-06 - accuracy: 1.0000 - val_loss: 6.4009 - val_accuracy: 0.6949\n",
      "Epoch 180/250\n",
      "31/31 [==============================] - 80s 3s/step - loss: 2.2384e-05 - accuracy: 1.0000 - val_loss: 6.4440 - val_accuracy: 0.6949\n",
      "Epoch 181/250\n",
      "31/31 [==============================] - 74s 2s/step - loss: 9.0740e-06 - accuracy: 1.0000 - val_loss: 6.4502 - val_accuracy: 0.6949\n",
      "Epoch 182/250\n",
      "31/31 [==============================] - 73s 2s/step - loss: 9.0995e-06 - accuracy: 1.0000 - val_loss: 6.3777 - val_accuracy: 0.6949\n",
      "Epoch 183/250\n",
      "31/31 [==============================] - 73s 2s/step - loss: 7.9528e-06 - accuracy: 1.0000 - val_loss: 6.3156 - val_accuracy: 0.6949\n",
      "Epoch 184/250\n",
      "31/31 [==============================] - 73s 2s/step - loss: 1.9194e-05 - accuracy: 1.0000 - val_loss: 6.3700 - val_accuracy: 0.6949\n",
      "Epoch 185/250\n",
      "31/31 [==============================] - 73s 2s/step - loss: 3.2124e-06 - accuracy: 1.0000 - val_loss: 6.3972 - val_accuracy: 0.6949\n",
      "Epoch 186/250\n",
      "31/31 [==============================] - 73s 2s/step - loss: 4.2841e-06 - accuracy: 1.0000 - val_loss: 6.4172 - val_accuracy: 0.6949\n",
      "Epoch 187/250\n",
      "31/31 [==============================] - 73s 2s/step - loss: 1.0256e-05 - accuracy: 1.0000 - val_loss: 6.4375 - val_accuracy: 0.6949\n",
      "Epoch 188/250\n",
      "31/31 [==============================] - 75s 2s/step - loss: 4.0494e-05 - accuracy: 1.0000 - val_loss: 6.6052 - val_accuracy: 0.6949\n",
      "Epoch 189/250\n",
      "31/31 [==============================] - 73s 2s/step - loss: 1.4624e-05 - accuracy: 1.0000 - val_loss: 6.6042 - val_accuracy: 0.6949\n",
      "Epoch 190/250\n",
      "31/31 [==============================] - 73s 2s/step - loss: 7.1050e-06 - accuracy: 1.0000 - val_loss: 6.6197 - val_accuracy: 0.6949\n",
      "Epoch 191/250\n",
      "31/31 [==============================] - 74s 2s/step - loss: 1.3409e-05 - accuracy: 1.0000 - val_loss: 6.7711 - val_accuracy: 0.6864\n",
      "Epoch 192/250\n",
      "31/31 [==============================] - 74s 2s/step - loss: 2.0694e-05 - accuracy: 1.0000 - val_loss: 6.7420 - val_accuracy: 0.6864\n",
      "Epoch 193/250\n",
      "31/31 [==============================] - 74s 2s/step - loss: 1.0012e-05 - accuracy: 1.0000 - val_loss: 6.7361 - val_accuracy: 0.6864\n",
      "Epoch 194/250\n",
      "31/31 [==============================] - 74s 2s/step - loss: 4.2291e-05 - accuracy: 1.0000 - val_loss: 6.7979 - val_accuracy: 0.6864\n",
      "Epoch 195/250\n",
      "31/31 [==============================] - 74s 2s/step - loss: 6.6246e-06 - accuracy: 1.0000 - val_loss: 6.8352 - val_accuracy: 0.7034\n",
      "Epoch 196/250\n",
      "31/31 [==============================] - 76s 2s/step - loss: 0.0975 - accuracy: 0.9777 - val_loss: 2.0465 - val_accuracy: 0.6356\n",
      "Epoch 197/250\n",
      "31/31 [==============================] - 74s 2s/step - loss: 0.3333 - accuracy: 0.8753 - val_loss: 2.0462 - val_accuracy: 0.6864\n",
      "Epoch 198/250\n",
      "31/31 [==============================] - 73s 2s/step - loss: 0.1835 - accuracy: 0.9300 - val_loss: 1.4618 - val_accuracy: 0.6441\n",
      "Epoch 199/250\n",
      "31/31 [==============================] - 74s 2s/step - loss: 0.1295 - accuracy: 0.9533 - val_loss: 2.1023 - val_accuracy: 0.6864\n",
      "Epoch 200/250\n",
      "31/31 [==============================] - 73s 2s/step - loss: 0.0780 - accuracy: 0.9736 - val_loss: 2.9199 - val_accuracy: 0.6610\n",
      "Epoch 201/250\n",
      "31/31 [==============================] - 73s 2s/step - loss: 0.0779 - accuracy: 0.9767 - val_loss: 3.2839 - val_accuracy: 0.6271\n",
      "Epoch 202/250\n",
      "31/31 [==============================] - 73s 2s/step - loss: 0.0760 - accuracy: 0.9726 - val_loss: 2.4781 - val_accuracy: 0.6356\n",
      "Epoch 203/250\n",
      "31/31 [==============================] - 73s 2s/step - loss: 0.1111 - accuracy: 0.9594 - val_loss: 2.6631 - val_accuracy: 0.6864\n",
      "Epoch 204/250\n",
      "31/31 [==============================] - 75s 2s/step - loss: 0.1190 - accuracy: 0.9675 - val_loss: 3.4366 - val_accuracy: 0.6525\n",
      "Epoch 205/250\n",
      "31/31 [==============================] - 73s 2s/step - loss: 0.0835 - accuracy: 0.9746 - val_loss: 3.5023 - val_accuracy: 0.6186\n",
      "Epoch 206/250\n",
      "31/31 [==============================] - 73s 2s/step - loss: 0.0692 - accuracy: 0.9757 - val_loss: 3.4751 - val_accuracy: 0.6271\n",
      "Epoch 207/250\n",
      "31/31 [==============================] - 75s 2s/step - loss: 0.0918 - accuracy: 0.9757 - val_loss: 2.2996 - val_accuracy: 0.6525\n",
      "Epoch 208/250\n",
      "31/31 [==============================] - 74s 2s/step - loss: 0.0440 - accuracy: 0.9888 - val_loss: 3.4343 - val_accuracy: 0.7288\n",
      "Epoch 209/250\n",
      "31/31 [==============================] - 73s 2s/step - loss: 0.0556 - accuracy: 0.9797 - val_loss: 3.1125 - val_accuracy: 0.6610\n",
      "Epoch 210/250\n",
      "31/31 [==============================] - 73s 2s/step - loss: 0.0705 - accuracy: 0.9777 - val_loss: 2.7970 - val_accuracy: 0.6780\n",
      "Epoch 211/250\n",
      "31/31 [==============================] - 73s 2s/step - loss: 0.0674 - accuracy: 0.9757 - val_loss: 2.5354 - val_accuracy: 0.7203\n",
      "Epoch 212/250\n",
      "31/31 [==============================] - 75s 2s/step - loss: 0.0405 - accuracy: 0.9848 - val_loss: 2.9966 - val_accuracy: 0.6186\n",
      "Epoch 213/250\n",
      "31/31 [==============================] - 73s 2s/step - loss: 0.0083 - accuracy: 0.9990 - val_loss: 3.7095 - val_accuracy: 0.6864\n",
      "Epoch 214/250\n",
      "31/31 [==============================] - 73s 2s/step - loss: 0.0045 - accuracy: 0.9990 - val_loss: 4.2995 - val_accuracy: 0.6441\n",
      "Epoch 215/250\n",
      "31/31 [==============================] - 74s 2s/step - loss: 0.0081 - accuracy: 0.9970 - val_loss: 3.6702 - val_accuracy: 0.6356\n",
      "Epoch 216/250\n",
      "31/31 [==============================] - 74s 2s/step - loss: 0.0105 - accuracy: 0.9980 - val_loss: 4.7244 - val_accuracy: 0.6949\n",
      "Epoch 217/250\n",
      "31/31 [==============================] - 74s 2s/step - loss: 0.0162 - accuracy: 0.9949 - val_loss: 4.8778 - val_accuracy: 0.6695\n",
      "Epoch 218/250\n",
      "31/31 [==============================] - 74s 2s/step - loss: 0.0366 - accuracy: 0.9899 - val_loss: 3.5157 - val_accuracy: 0.6610\n",
      "Epoch 219/250\n",
      "31/31 [==============================] - 74s 2s/step - loss: 0.1446 - accuracy: 0.9635 - val_loss: 2.4810 - val_accuracy: 0.7288\n",
      "Epoch 220/250\n",
      "31/31 [==============================] - 75s 2s/step - loss: 0.0573 - accuracy: 0.9746 - val_loss: 3.0348 - val_accuracy: 0.6864\n",
      "Epoch 221/250\n",
      "31/31 [==============================] - 74s 2s/step - loss: 0.0246 - accuracy: 0.9868 - val_loss: 3.3896 - val_accuracy: 0.7373\n",
      "Epoch 222/250\n",
      "31/31 [==============================] - 74s 2s/step - loss: 0.0131 - accuracy: 0.9949 - val_loss: 3.9298 - val_accuracy: 0.6441\n",
      "Epoch 223/250\n",
      "31/31 [==============================] - 74s 2s/step - loss: 0.0197 - accuracy: 0.9949 - val_loss: 3.8174 - val_accuracy: 0.6525\n",
      "Epoch 224/250\n",
      "31/31 [==============================] - 74s 2s/step - loss: 0.0207 - accuracy: 0.9919 - val_loss: 3.9919 - val_accuracy: 0.7203\n",
      "Epoch 225/250\n",
      "31/31 [==============================] - 74s 2s/step - loss: 0.0360 - accuracy: 0.9848 - val_loss: 4.4449 - val_accuracy: 0.6949\n",
      "Epoch 226/250\n",
      "31/31 [==============================] - 74s 2s/step - loss: 0.0940 - accuracy: 0.9686 - val_loss: 3.6969 - val_accuracy: 0.6525\n",
      "Epoch 227/250\n",
      "31/31 [==============================] - 74s 2s/step - loss: 0.0435 - accuracy: 0.9828 - val_loss: 3.5648 - val_accuracy: 0.7203\n"
     ]
    },
    {
     "name": "stdout",
     "output_type": "stream",
     "text": [
      "Epoch 228/250\n",
      "31/31 [==============================] - 76s 2s/step - loss: 0.0563 - accuracy: 0.9828 - val_loss: 3.4828 - val_accuracy: 0.6610\n",
      "Epoch 229/250\n",
      "31/31 [==============================] - 74s 2s/step - loss: 0.0288 - accuracy: 0.9919 - val_loss: 3.5601 - val_accuracy: 0.6695\n",
      "Epoch 230/250\n",
      "31/31 [==============================] - 74s 2s/step - loss: 0.0387 - accuracy: 0.9959 - val_loss: 3.6776 - val_accuracy: 0.7034\n",
      "Epoch 231/250\n",
      "31/31 [==============================] - 74s 2s/step - loss: 0.0093 - accuracy: 0.9970 - val_loss: 3.5865 - val_accuracy: 0.6695\n",
      "Epoch 232/250\n",
      "31/31 [==============================] - 74s 2s/step - loss: 0.0047 - accuracy: 0.9980 - val_loss: 3.8932 - val_accuracy: 0.6780\n",
      "Epoch 233/250\n",
      "31/31 [==============================] - 74s 2s/step - loss: 0.0018 - accuracy: 1.0000 - val_loss: 4.3465 - val_accuracy: 0.6695\n",
      "Epoch 234/250\n",
      "31/31 [==============================] - 74s 2s/step - loss: 5.3991e-04 - accuracy: 1.0000 - val_loss: 4.8187 - val_accuracy: 0.6525\n",
      "Epoch 235/250\n",
      "31/31 [==============================] - 74s 2s/step - loss: 3.6884e-04 - accuracy: 1.0000 - val_loss: 4.7875 - val_accuracy: 0.6525\n",
      "Epoch 236/250\n",
      "31/31 [==============================] - 74s 2s/step - loss: 2.5473e-04 - accuracy: 1.0000 - val_loss: 4.8466 - val_accuracy: 0.6525\n",
      "Epoch 237/250\n",
      "31/31 [==============================] - 74s 2s/step - loss: 5.3628e-04 - accuracy: 1.0000 - val_loss: 4.8512 - val_accuracy: 0.6695\n",
      "Epoch 238/250\n",
      "31/31 [==============================] - 74s 2s/step - loss: 2.5393e-04 - accuracy: 1.0000 - val_loss: 5.0403 - val_accuracy: 0.6610\n",
      "Epoch 239/250\n",
      "31/31 [==============================] - 74s 2s/step - loss: 4.3506e-04 - accuracy: 1.0000 - val_loss: 5.0924 - val_accuracy: 0.6610\n",
      "Epoch 240/250\n",
      "31/31 [==============================] - 74s 2s/step - loss: 1.2530e-04 - accuracy: 1.0000 - val_loss: 5.1852 - val_accuracy: 0.6610\n",
      "Epoch 241/250\n",
      "31/31 [==============================] - 74s 2s/step - loss: 2.6025e-04 - accuracy: 1.0000 - val_loss: 5.1914 - val_accuracy: 0.6695\n",
      "Epoch 242/250\n",
      "31/31 [==============================] - 74s 2s/step - loss: 2.3840e-04 - accuracy: 1.0000 - val_loss: 5.2325 - val_accuracy: 0.6695\n",
      "Epoch 243/250\n",
      "31/31 [==============================] - 73s 2s/step - loss: 2.8670e-04 - accuracy: 1.0000 - val_loss: 5.2495 - val_accuracy: 0.6695\n",
      "Epoch 244/250\n",
      "31/31 [==============================] - 74s 2s/step - loss: 5.4843e-04 - accuracy: 1.0000 - val_loss: 5.4961 - val_accuracy: 0.6695\n",
      "Epoch 245/250\n",
      "31/31 [==============================] - 75s 2s/step - loss: 6.5532e-05 - accuracy: 1.0000 - val_loss: 5.6088 - val_accuracy: 0.6610\n",
      "Epoch 246/250\n",
      "31/31 [==============================] - 74s 2s/step - loss: 1.1578e-04 - accuracy: 1.0000 - val_loss: 5.6339 - val_accuracy: 0.6695\n",
      "Epoch 247/250\n",
      "31/31 [==============================] - 74s 2s/step - loss: 1.3004e-04 - accuracy: 1.0000 - val_loss: 5.6575 - val_accuracy: 0.6695\n",
      "Epoch 248/250\n",
      "31/31 [==============================] - 74s 2s/step - loss: 5.7831e-05 - accuracy: 1.0000 - val_loss: 5.6564 - val_accuracy: 0.6695\n",
      "Epoch 249/250\n",
      "31/31 [==============================] - 74s 2s/step - loss: 7.0589e-05 - accuracy: 1.0000 - val_loss: 5.7316 - val_accuracy: 0.6695\n",
      "Epoch 250/250\n",
      "31/31 [==============================] - 74s 2s/step - loss: 3.3305e-05 - accuracy: 1.0000 - val_loss: 5.7709 - val_accuracy: 0.6695\n"
     ]
    }
   ],
   "source": [
    "results = model.fit_generator(train_image_gen,epochs=250,\n",
    "                              validation_data=test_image_gen)"
   ]
  },
  {
   "cell_type": "code",
   "execution_count": 56,
   "metadata": {
    "id": "OxDU-hRYbFAs"
   },
   "outputs": [],
   "source": [
    "from tensorflow.keras.models import load_model\n",
    "model.save('hehe6402.h5')"
   ]
  },
  {
   "cell_type": "code",
   "execution_count": 57,
   "metadata": {
    "colab": {
     "base_uri": "https://localhost:8080/",
     "height": 1000
    },
    "id": "TpG9c5RnbHCz",
    "outputId": "40ca05aa-4452-4619-8e68-217314e955ad"
   },
   "outputs": [
    {
     "data": {
      "text/html": [
       "<div>\n",
       "<style scoped>\n",
       "    .dataframe tbody tr th:only-of-type {\n",
       "        vertical-align: middle;\n",
       "    }\n",
       "\n",
       "    .dataframe tbody tr th {\n",
       "        vertical-align: top;\n",
       "    }\n",
       "\n",
       "    .dataframe thead th {\n",
       "        text-align: right;\n",
       "    }\n",
       "</style>\n",
       "<table border=\"1\" class=\"dataframe\">\n",
       "  <thead>\n",
       "    <tr style=\"text-align: right;\">\n",
       "      <th></th>\n",
       "      <th>loss</th>\n",
       "      <th>accuracy</th>\n",
       "      <th>val_loss</th>\n",
       "      <th>val_accuracy</th>\n",
       "    </tr>\n",
       "  </thead>\n",
       "  <tbody>\n",
       "    <tr>\n",
       "      <th>0</th>\n",
       "      <td>0.105097</td>\n",
       "      <td>0.963489</td>\n",
       "      <td>1.774126</td>\n",
       "      <td>0.677966</td>\n",
       "    </tr>\n",
       "    <tr>\n",
       "      <th>1</th>\n",
       "      <td>0.060320</td>\n",
       "      <td>0.981744</td>\n",
       "      <td>2.291578</td>\n",
       "      <td>0.677966</td>\n",
       "    </tr>\n",
       "    <tr>\n",
       "      <th>2</th>\n",
       "      <td>0.075316</td>\n",
       "      <td>0.971602</td>\n",
       "      <td>2.112439</td>\n",
       "      <td>0.669492</td>\n",
       "    </tr>\n",
       "    <tr>\n",
       "      <th>3</th>\n",
       "      <td>0.053160</td>\n",
       "      <td>0.982759</td>\n",
       "      <td>2.315109</td>\n",
       "      <td>0.661017</td>\n",
       "    </tr>\n",
       "    <tr>\n",
       "      <th>4</th>\n",
       "      <td>0.116381</td>\n",
       "      <td>0.961460</td>\n",
       "      <td>2.126925</td>\n",
       "      <td>0.644068</td>\n",
       "    </tr>\n",
       "    <tr>\n",
       "      <th>...</th>\n",
       "      <td>...</td>\n",
       "      <td>...</td>\n",
       "      <td>...</td>\n",
       "      <td>...</td>\n",
       "    </tr>\n",
       "    <tr>\n",
       "      <th>245</th>\n",
       "      <td>0.000116</td>\n",
       "      <td>1.000000</td>\n",
       "      <td>5.633867</td>\n",
       "      <td>0.669492</td>\n",
       "    </tr>\n",
       "    <tr>\n",
       "      <th>246</th>\n",
       "      <td>0.000130</td>\n",
       "      <td>1.000000</td>\n",
       "      <td>5.657480</td>\n",
       "      <td>0.669492</td>\n",
       "    </tr>\n",
       "    <tr>\n",
       "      <th>247</th>\n",
       "      <td>0.000058</td>\n",
       "      <td>1.000000</td>\n",
       "      <td>5.656368</td>\n",
       "      <td>0.669492</td>\n",
       "    </tr>\n",
       "    <tr>\n",
       "      <th>248</th>\n",
       "      <td>0.000071</td>\n",
       "      <td>1.000000</td>\n",
       "      <td>5.731552</td>\n",
       "      <td>0.669492</td>\n",
       "    </tr>\n",
       "    <tr>\n",
       "      <th>249</th>\n",
       "      <td>0.000033</td>\n",
       "      <td>1.000000</td>\n",
       "      <td>5.770930</td>\n",
       "      <td>0.669492</td>\n",
       "    </tr>\n",
       "  </tbody>\n",
       "</table>\n",
       "<p>250 rows × 4 columns</p>\n",
       "</div>"
      ],
      "text/plain": [
       "         loss  accuracy  val_loss  val_accuracy\n",
       "0    0.105097  0.963489  1.774126      0.677966\n",
       "1    0.060320  0.981744  2.291578      0.677966\n",
       "2    0.075316  0.971602  2.112439      0.669492\n",
       "3    0.053160  0.982759  2.315109      0.661017\n",
       "4    0.116381  0.961460  2.126925      0.644068\n",
       "..        ...       ...       ...           ...\n",
       "245  0.000116  1.000000  5.633867      0.669492\n",
       "246  0.000130  1.000000  5.657480      0.669492\n",
       "247  0.000058  1.000000  5.656368      0.669492\n",
       "248  0.000071  1.000000  5.731552      0.669492\n",
       "249  0.000033  1.000000  5.770930      0.669492\n",
       "\n",
       "[250 rows x 4 columns]"
      ]
     },
     "execution_count": 57,
     "metadata": {},
     "output_type": "execute_result"
    }
   ],
   "source": [
    "losses = pd.DataFrame(model.history.history)\n",
    "losses"
   ]
  },
  {
   "cell_type": "code",
   "execution_count": 58,
   "metadata": {
    "colab": {
     "base_uri": "https://localhost:8080/",
     "height": 283
    },
    "id": "8ikcjbAebJDy",
    "outputId": "5ccd7472-c4dc-4432-8f44-46bce994b1c8"
   },
   "outputs": [
    {
     "data": {
      "text/plain": [
       "<AxesSubplot:>"
      ]
     },
     "execution_count": 58,
     "metadata": {},
     "output_type": "execute_result"
    },
    {
     "data": {
      "image/png": "[encoded data removed]",
      "text/plain": [
       "<Figure size 432x288 with 1 Axes>"
      ]
     },
     "metadata": {
      "needs_background": "light"
     },
     "output_type": "display_data"
    }
   ],
   "source": [
    "losses[['loss','val_loss']].plot()"
   ]
  },
  {
   "cell_type": "code",
   "execution_count": 59,
   "metadata": {
    "colab": {
     "base_uri": "https://localhost:8080/",
     "height": 283
    },
    "id": "7x7XKz_vbKpZ",
    "outputId": "5ec24bde-b99c-4655-c832-e839053a12ce"
   },
   "outputs": [
    {
     "data": {
      "text/plain": [
       "<AxesSubplot:>"
      ]
     },
     "execution_count": 59,
     "metadata": {},
     "output_type": "execute_result"
    },
    {
     "data": {
      "image/png": "[encoded data removed]",
      "text/plain": [
       "<Figure size 432x288 with 1 Axes>"
      ]
     },
     "metadata": {
      "needs_background": "light"
     },
     "output_type": "display_data"
    }
   ],
   "source": [
    "losses[['accuracy','val_accuracy']].plot()"
   ]
  },
  {
   "cell_type": "code",
   "execution_count": 60,
   "metadata": {
    "colab": {
     "base_uri": "https://localhost:8080/"
    },
    "id": "UZyWIpUMbMun",
    "outputId": "4d4c3460-ff31-4173-b344-a856c89a9363"
   },
   "outputs": [
    {
     "name": "stdout",
     "output_type": "stream",
     "text": [
      "4/4 [==============================] - 10s 2s/step - loss: 5.7709 - accuracy: 0.6695\n"
     ]
    },
    {
     "data": {
      "text/plain": [
       "[5.770930290222168, 0.6694915294647217]"
      ]
     },
     "execution_count": 60,
     "metadata": {},
     "output_type": "execute_result"
    }
   ],
   "source": [
    "model.evaluate(test_image_gen)"
   ]
  },
  {
   "cell_type": "code",
   "execution_count": 61,
   "metadata": {
    "colab": {
     "base_uri": "https://localhost:8080/"
    },
    "id": "919lyBvFbRNy",
    "outputId": "cd0eb046-594a-498a-ed6c-3fb6a52d0244"
   },
   "outputs": [
    {
     "name": "stdout",
     "output_type": "stream",
     "text": [
      "4/4 [==============================] - 10s 2s/step\n"
     ]
    },
    {
     "data": {
      "text/plain": [
       "array([[1.08313181e-09, 9.99783099e-01, 2.16939603e-04],\n",
       "       [5.44689363e-30, 7.52162414e-19, 1.00000000e+00],\n",
       "       [4.18082080e-15, 3.26508487e-13, 1.00000000e+00],\n",
       "       [3.97826249e-13, 3.61689900e-09, 1.00000000e+00],\n",
       "       [6.19309926e-17, 7.24430238e-11, 1.00000000e+00],\n",
       "       [1.14019877e-10, 1.65665019e-02, 9.83433485e-01],\n",
       "       [1.56321214e-08, 1.13055487e-09, 1.00000000e+00],\n",
       "       [9.99595344e-01, 2.28002076e-14, 4.04664519e-04],\n",
       "       [1.00000000e+00, 7.89128321e-28, 3.05211422e-20],\n",
       "       [1.00000000e+00, 1.15572821e-13, 1.60466682e-14],\n",
       "       [8.18689525e-01, 5.29492553e-03, 1.76015511e-01],\n",
       "       [9.99990821e-01, 7.08684820e-06, 2.11069278e-06],\n",
       "       [1.00000000e+00, 2.65442941e-13, 6.00011141e-16],\n",
       "       [1.00000000e+00, 8.98072171e-14, 4.96356013e-15],\n",
       "       [9.98953342e-01, 1.19260656e-12, 1.04659016e-03],\n",
       "       [5.77629104e-14, 1.09629487e-26, 1.00000000e+00],\n",
       "       [1.00000000e+00, 3.26482250e-21, 5.73349281e-18],\n",
       "       [1.00000000e+00, 8.36668633e-19, 2.53545687e-12],\n",
       "       [1.00000000e+00, 3.12290274e-16, 2.37948661e-10],\n",
       "       [9.99999881e-01, 4.07617690e-10, 9.80026300e-08],\n",
       "       [1.00000000e+00, 7.93467896e-12, 3.44237763e-11],\n",
       "       [3.37658093e-07, 3.51869020e-11, 9.99999642e-01],\n",
       "       [7.72798341e-03, 1.08072300e-07, 9.92271900e-01],\n",
       "       [1.00000000e+00, 1.09194945e-12, 8.81163453e-19],\n",
       "       [1.00000000e+00, 1.32554134e-10, 2.05741341e-10],\n",
       "       [1.00000000e+00, 1.02221969e-15, 1.43576542e-15],\n",
       "       [1.00000000e+00, 1.84341031e-09, 2.14340346e-13],\n",
       "       [1.00000000e+00, 2.88818578e-12, 2.62082036e-08],\n",
       "       [1.00000000e+00, 1.63311819e-20, 1.04833833e-16],\n",
       "       [9.99993563e-01, 6.20176525e-06, 2.21878622e-07],\n",
       "       [1.00000000e+00, 4.09760048e-09, 3.41148354e-09],\n",
       "       [9.99999523e-01, 7.48387255e-11, 4.42321891e-07],\n",
       "       [1.00000000e+00, 1.50408743e-18, 1.66120075e-13],\n",
       "       [1.00000000e+00, 6.27078955e-13, 2.34333802e-10],\n",
       "       [1.00000000e+00, 7.73036149e-13, 3.82117626e-09],\n",
       "       [9.99977112e-01, 2.17972156e-05, 1.04764911e-06],\n",
       "       [1.00000000e+00, 2.30462199e-12, 4.78618221e-11],\n",
       "       [1.00000000e+00, 2.42246392e-14, 3.69144354e-10],\n",
       "       [4.99036582e-03, 9.95009661e-01, 2.48754928e-13],\n",
       "       [9.98952150e-01, 3.02710106e-08, 1.04777876e-03],\n",
       "       [1.87763693e-12, 1.00000000e+00, 4.56853861e-08],\n",
       "       [6.56143750e-11, 9.99999285e-01, 6.72111412e-07],\n",
       "       [5.52644604e-04, 8.13189626e-01, 1.86257705e-01],\n",
       "       [7.05837902e-21, 4.73258458e-02, 9.52674091e-01],\n",
       "       [1.51956845e-21, 9.99999046e-01, 9.95370101e-07],\n",
       "       [3.30197192e-21, 1.00000000e+00, 1.89046983e-08],\n",
       "       [9.89987658e-20, 9.99998569e-01, 1.47501817e-06],\n",
       "       [8.89605865e-18, 2.22364381e-01, 7.77635634e-01],\n",
       "       [2.35753629e-36, 1.00000000e+00, 8.62069544e-14],\n",
       "       [2.69810005e-19, 1.00000000e+00, 1.99313344e-09],\n",
       "       [2.77136731e-22, 1.00000000e+00, 5.67551006e-11],\n",
       "       [3.53984250e-14, 9.99997854e-01, 2.17322304e-06],\n",
       "       [1.06751823e-24, 4.27842169e-05, 9.99957204e-01],\n",
       "       [1.00000000e+00, 5.99705398e-13, 4.14550896e-19],\n",
       "       [1.00000000e+00, 5.90155147e-11, 9.81415131e-14],\n",
       "       [7.24044114e-09, 1.00000000e+00, 4.24227602e-13],\n",
       "       [9.99109328e-01, 8.90610158e-04, 1.87823126e-08],\n",
       "       [1.00000000e+00, 2.25125502e-10, 8.59987725e-09],\n",
       "       [5.18498803e-03, 9.94814932e-01, 1.26831352e-13],\n",
       "       [1.67816658e-08, 1.00000000e+00, 2.35064626e-08],\n",
       "       [1.00000000e+00, 1.89748874e-08, 1.72782399e-09],\n",
       "       [9.99998093e-01, 1.03502009e-06, 8.73196598e-07],\n",
       "       [2.81749763e-05, 9.99971509e-01, 3.01959005e-07],\n",
       "       [1.00000000e+00, 1.41103684e-10, 9.49698480e-12],\n",
       "       [9.49324250e-01, 5.06654978e-02, 1.02274362e-05],\n",
       "       [1.55188074e-09, 9.99998093e-01, 1.94104950e-06],\n",
       "       [1.11005918e-20, 1.00000000e+00, 2.31345910e-25],\n",
       "       [2.88978516e-26, 1.00000000e+00, 2.54021289e-21],\n",
       "       [1.88885683e-21, 1.00000000e+00, 4.33316496e-13],\n",
       "       [1.22618978e-03, 9.98773754e-01, 2.22000462e-08],\n",
       "       [8.67811465e-12, 1.00000000e+00, 1.12125546e-14],\n",
       "       [5.43569587e-02, 9.43029225e-01, 2.61385948e-03],\n",
       "       [1.20670973e-11, 2.77315248e-02, 9.72268462e-01],\n",
       "       [6.58763222e-09, 1.00000000e+00, 2.68013634e-09],\n",
       "       [1.48632864e-07, 9.99999881e-01, 4.05684482e-08],\n",
       "       [9.49603558e-01, 3.64542357e-04, 5.00319190e-02],\n",
       "       [1.00000000e+00, 1.97968060e-08, 5.22492378e-08],\n",
       "       [4.76279616e-01, 2.12939305e-10, 5.23720384e-01],\n",
       "       [8.87006670e-02, 9.11299229e-01, 7.32287404e-08],\n",
       "       [8.71787011e-37, 3.43499926e-22, 1.00000000e+00],\n",
       "       [0.00000000e+00, 6.85869905e-38, 1.00000000e+00],\n",
       "       [1.53418315e-29, 7.74575226e-25, 1.00000000e+00],\n",
       "       [0.00000000e+00, 0.00000000e+00, 1.00000000e+00],\n",
       "       [0.00000000e+00, 0.00000000e+00, 1.00000000e+00],\n",
       "       [9.91719877e-28, 1.26377481e-17, 1.00000000e+00],\n",
       "       [0.00000000e+00, 1.06870612e-29, 1.00000000e+00],\n",
       "       [0.00000000e+00, 0.00000000e+00, 1.00000000e+00],\n",
       "       [0.00000000e+00, 6.16093516e-32, 1.00000000e+00],\n",
       "       [1.57104347e-23, 4.61431131e-24, 1.00000000e+00],\n",
       "       [8.95316067e-27, 4.08122613e-25, 1.00000000e+00],\n",
       "       [0.00000000e+00, 3.25001560e-33, 1.00000000e+00],\n",
       "       [0.00000000e+00, 5.50816963e-33, 1.00000000e+00],\n",
       "       [9.95455736e-08, 4.26945964e-17, 9.99999881e-01],\n",
       "       [9.99975204e-01, 7.64105934e-09, 2.47595708e-05],\n",
       "       [9.96320248e-01, 3.35792283e-05, 3.64619726e-03],\n",
       "       [2.44847924e-01, 1.74231771e-02, 7.37728953e-01],\n",
       "       [3.70069116e-01, 6.07610881e-01, 2.23199818e-02],\n",
       "       [2.89559219e-16, 9.99999762e-01, 2.57840327e-07],\n",
       "       [6.55164172e-07, 9.98301506e-01, 1.69770315e-03],\n",
       "       [6.73172296e-10, 9.35355492e-04, 9.99064624e-01],\n",
       "       [1.55268026e-06, 1.16494716e-08, 9.99998450e-01],\n",
       "       [1.00000000e+00, 4.27820333e-15, 4.92689587e-08],\n",
       "       [1.00000000e+00, 1.87427596e-17, 1.53588448e-10],\n",
       "       [1.00000000e+00, 1.15213709e-19, 3.99385498e-17],\n",
       "       [1.04161254e-05, 1.32702307e-13, 9.99989629e-01],\n",
       "       [5.06244092e-12, 2.86556907e-11, 1.00000000e+00],\n",
       "       [1.20860785e-01, 7.05576837e-01, 1.73562378e-01],\n",
       "       [3.39769228e-12, 5.04318944e-14, 1.00000000e+00],\n",
       "       [2.85232914e-11, 8.34235021e-16, 1.00000000e+00],\n",
       "       [4.26618250e-27, 1.61829943e-24, 1.00000000e+00],\n",
       "       [1.02366634e-04, 1.59094343e-05, 9.99881744e-01],\n",
       "       [9.99999762e-01, 2.12656701e-07, 1.04929494e-11],\n",
       "       [8.92274678e-01, 6.10475597e-16, 1.07725315e-01],\n",
       "       [1.21415924e-11, 4.80232508e-21, 1.00000000e+00],\n",
       "       [9.11861509e-02, 1.40571860e-10, 9.08813834e-01],\n",
       "       [1.00000000e+00, 2.40774436e-12, 2.69983515e-15],\n",
       "       [5.97083216e-11, 5.29171332e-14, 1.00000000e+00],\n",
       "       [9.99978304e-01, 1.22788437e-08, 2.17186807e-05]], dtype=float32)"
      ]
     },
     "execution_count": 61,
     "metadata": {},
     "output_type": "execute_result"
    }
   ],
   "source": [
    "# https://datascience.stackexchange.com/questions/13894/how-to-get-predictions-with-predict-generator-on-streaming-test-data-in-keras\n",
    "pred_probabilities = model.predict(test_image_gen)\n",
    "pred_probabilities"
   ]
  },
  {
   "cell_type": "code",
   "execution_count": 62,
   "metadata": {
    "id": "K2oDwOAe6iAM"
   },
   "outputs": [],
   "source": [
    "from sklearn.metrics import classification_report,confusion_matrix\n",
    "from tensorflow.keras.utils import to_categorical"
   ]
  },
  {
   "cell_type": "code",
   "execution_count": 63,
   "metadata": {
    "colab": {
     "base_uri": "https://localhost:8080/"
    },
    "id": "MvbzzF-pbVSr",
    "outputId": "1300925c-1f05-4677-c2ae-2fe46985ccd7"
   },
   "outputs": [
    {
     "name": "stdout",
     "output_type": "stream",
     "text": [
      "[[29  2  9]\n",
      " [10 24  5]\n",
      " [ 9  4 26]]\n"
     ]
    },
    {
     "data": {
      "text/plain": [
       "{'1_normal': 0, '2_cataract': 1, '2_glaucoma': 2}"
      ]
     },
     "execution_count": 63,
     "metadata": {},
     "output_type": "execute_result"
    }
   ],
   "source": [
    "print(confusion_matrix(test_image_gen.classes,np.argmax(pred_probabilities, axis=-1)))\n",
    "test_image_gen.class_indices"
   ]
  },
  {
   "cell_type": "code",
   "execution_count": null,
   "metadata": {
    "id": "j7TrV59E7w2N"
   },
   "outputs": [],
   "source": [
    "#checking matrix for training as well"
   ]
  },
  {
   "cell_type": "code",
   "execution_count": 64,
   "metadata": {
    "colab": {
     "base_uri": "https://localhost:8080/"
    },
    "id": "pZsxXIH6c8rg",
    "outputId": "341ea2e1-b082-402b-ae58-b7827e6acc16"
   },
   "outputs": [
    {
     "name": "stdout",
     "output_type": "stream",
     "text": [
      "31/31 [==============================] - 76s 2s/step\n"
     ]
    }
   ],
   "source": [
    "pred_train_probabilities = model.predict(train_image_gen)"
   ]
  },
  {
   "cell_type": "code",
   "execution_count": 65,
   "metadata": {
    "colab": {
     "base_uri": "https://localhost:8080/"
    },
    "id": "hEbKCUsKdK32",
    "outputId": "b4a34683-0583-4a10-f905-bca50bb73a4f"
   },
   "outputs": [
    {
     "name": "stdout",
     "output_type": "stream",
     "text": [
      "[[ 57  91 119]\n",
      " [ 88 107 128]\n",
      " [122 125 149]]\n"
     ]
    },
    {
     "data": {
      "text/plain": [
       "{'1_normal': 0, '2_cataract': 1, '2_glaucoma': 2}"
      ]
     },
     "execution_count": 65,
     "metadata": {},
     "output_type": "execute_result"
    }
   ],
   "source": [
    "print(confusion_matrix(train_image_gen.classes,np.argmax(pred_train_probabilities, axis=-1)))\n",
    "train_image_gen.class_indices"
   ]
  },
  {
   "cell_type": "code",
   "execution_count": null,
   "metadata": {
    "id": "1SGC8mbmdTBF"
   },
   "outputs": [],
   "source": [
    "import tensorflow as tf\n",
    "model_2001 = tf.keras.models.load_model('/content/hehe2001.h5')"
   ]
  },
  {
   "cell_type": "code",
   "execution_count": null,
   "metadata": {
    "colab": {
     "base_uri": "https://localhost:8080/"
    },
    "id": "IMGLtOE8eamX",
    "outputId": "1e0e4414-1848-4a13-ddb5-cca98da3420a"
   },
   "outputs": [
    {
     "name": "stdout",
     "output_type": "stream",
     "text": [
      "4/4 [==============================] - 13s 3s/step\n",
      "[[27  2 11]\n",
      " [10 23  6]\n",
      " [ 8  1 30]]\n"
     ]
    },
    {
     "data": {
      "text/plain": [
       "{'1_normal': 0, '2_cataract': 1, '2_glaucoma': 2}"
      ]
     },
     "execution_count": 68,
     "metadata": {},
     "output_type": "execute_result"
    }
   ],
   "source": [
    "print(confusion_matrix(test_image_gen.classes,np.argmax(model_2001.predict(test_image_gen), axis=-1)))\n",
    "test_image_gen.class_indices"
   ]
  },
  {
   "cell_type": "code",
   "execution_count": null,
   "metadata": {
    "colab": {
     "base_uri": "https://localhost:8080/"
    },
    "id": "iw015jz1fZFW",
    "outputId": "405acf88-d9a7-457b-caa5-17ec49c7416a"
   },
   "outputs": [
    {
     "name": "stdout",
     "output_type": "stream",
     "text": [
      "31/31 [==============================] - 88s 3s/step\n",
      "[[ 78  83 106]\n",
      " [ 72  98 153]\n",
      " [118 114 164]]\n"
     ]
    },
    {
     "data": {
      "text/plain": [
       "{'1_normal': 0, '2_cataract': 1, '2_glaucoma': 2}"
      ]
     },
     "execution_count": 70,
     "metadata": {},
     "output_type": "execute_result"
    }
   ],
   "source": [
    "print(confusion_matrix(train_image_gen.classes,np.argmax(model_2001.predict(train_image_gen), axis=-1)))\n",
    "train_image_gen.class_indices"
   ]
  },
  {
   "cell_type": "code",
   "execution_count": null,
   "metadata": {
    "id": "KQtSpd_wfrTR"
   },
   "outputs": [],
   "source": []
  }
 ],
 "metadata": {
  "accelerator": "GPU",
  "colab": {
   "provenance": []
  },
  "gpuClass": "standard",
  "kernelspec": {
   "display_name": "Python 3",
   "language": "python",
   "name": "python3"
  },
  "language_info": {
   "codemirror_mode": {
    "name": "ipython",
    "version": 3
   },
   "file_extension": ".py",
   "mimetype": "text/x-python",
   "name": "python",
   "nbconvert_exporter": "python",
   "pygments_lexer": "ipython3",
   "version": "3.8.8"
  }
 },
 "nbformat": 4,
 "nbformat_minor": 1
}
